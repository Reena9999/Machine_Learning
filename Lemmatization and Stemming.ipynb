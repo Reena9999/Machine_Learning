{
 "cells": [
  {
   "cell_type": "markdown",
   "metadata": {},
   "source": [
    "### PROBLEM STATEMENT\nFrom any text, perform tokenization and reduce tokens to it's source word with lemmatization and stemming.\n### SOLUTION"
   ]
  },
  {
   "cell_type": "code",
   "execution_count": 29,
   "metadata": {},
   "outputs": [],
   "source": [
    "import numpy as np\n",
    "import pandas as pd\n",
    "\n",
    "# package to tokenize text\n",
    "from nltk.tokenize import word_tokenize\n",
    "\n",
    "from nltk.stem import PorterStemmer\n",
    "\n",
    "from nltk.stem import WordNetLemmatizer"
   ]
  },
  {
   "cell_type": "code",
   "execution_count": 15,
   "metadata": {},
   "outputs": [],
   "source": [
    "headings=[\"Why a hologram revolution could be on the way\",\"Can German engineering solve the challenges of fusion?\",\"Can tech stop India wasting so much of its harvest?\",\"US-China rivalry spurs investment in space tech\",\"The extreme robot arm that can chop up a ship\",\"How to make cars less dangerous for pedestrians\",\"The incredible power of blue LEDs\",\"Robots are trained to help revive coral reefs\",\"Urban oases combine roof gardens and solar panels\",\"How long unitl a robot is doing your chores?\"]"
   ]
  },
  {
   "cell_type": "code",
   "execution_count": 16,
   "metadata": {},
   "outputs": [],
   "source": [
    "# TOKENISING\n",
    "heading_tokens=[]\n",
    "\n",
    "for i in range(len(headings)):\n",
    "    heading_tokens.append(word_tokenize(headings[i]))"
   ]
  },
  {
   "cell_type": "code",
   "execution_count": 17,
   "metadata": {},
   "outputs": [
    {
     "name": "stdout",
     "output_type": "stream",
     "text": [
      "['Why', 'a', 'hologram', 'revolution', 'could', 'be', 'on', 'the', 'way']\n",
      "['Can', 'German', 'engineering', 'solve', 'the', 'challenges', 'of', 'fusion', '?']\n",
      "['Can', 'tech', 'stop', 'India', 'wasting', 'so', 'much', 'of', 'its', 'harvest', '?']\n",
      "['US-China', 'rivalry', 'spurs', 'investment', 'in', 'space', 'tech']\n",
      "['The', 'extreme', 'robot', 'arm', 'that', 'can', 'chop', 'up', 'a', 'ship']\n",
      "['How', 'to', 'make', 'cars', 'less', 'dangerous', 'for', 'pedestrians']\n",
      "['The', 'incredible', 'power', 'of', 'blue', 'LEDs']\n",
      "['Robots', 'are', 'trained', 'to', 'help', 'revive', 'coral', 'reefs']\n",
      "['Urban', 'oases', 'combine', 'roof', 'gardens', 'and', 'solar', 'panels']\n",
      "['How', 'long', 'unitl', 'a', 'robot', 'is', 'doing', 'your', 'chores', '?']\n"
     ]
    }
   ],
   "source": [
    "# Viewing text\n",
    "for i in heading_tokens:\n",
    "    print(i)"
   ]
  },
  {
   "cell_type": "code",
   "execution_count": 18,
   "metadata": {},
   "outputs": [],
   "source": [
    "# REMOVING PUNCUATIONS\n",
    "for i in range(len(heading_tokens)):\n",
    "\n",
    "    # converting to lower case\n",
    "    for j in range(len(heading_tokens[i])):\n",
    "        heading_tokens[i][j]=heading_tokens[i][j].lower()\n",
    "\n",
    "    # removing punctuations\n",
    "    if ',' in heading_tokens[i]:\n",
    "        heading_tokens[i].remove(',')\n",
    "\n",
    "    if '.' in heading_tokens[i]:\n",
    "        heading_tokens[i].remove('.')\n",
    "    \n",
    "    if '?' in heading_tokens[i]:\n",
    "        heading_tokens[i].remove('?')"
   ]
  },
  {
   "cell_type": "code",
   "execution_count": 19,
   "metadata": {},
   "outputs": [
    {
     "name": "stdout",
     "output_type": "stream",
     "text": [
      "['why', 'a', 'hologram', 'revolution', 'could', 'be', 'on', 'the', 'way']\n",
      "['can', 'german', 'engineering', 'solve', 'the', 'challenges', 'of', 'fusion']\n",
      "['can', 'tech', 'stop', 'india', 'wasting', 'so', 'much', 'of', 'its', 'harvest']\n",
      "['us-china', 'rivalry', 'spurs', 'investment', 'in', 'space', 'tech']\n",
      "['the', 'extreme', 'robot', 'arm', 'that', 'can', 'chop', 'up', 'a', 'ship']\n",
      "['how', 'to', 'make', 'cars', 'less', 'dangerous', 'for', 'pedestrians']\n",
      "['the', 'incredible', 'power', 'of', 'blue', 'leds']\n",
      "['robots', 'are', 'trained', 'to', 'help', 'revive', 'coral', 'reefs']\n",
      "['urban', 'oases', 'combine', 'roof', 'gardens', 'and', 'solar', 'panels']\n",
      "['how', 'long', 'unitl', 'a', 'robot', 'is', 'doing', 'your', 'chores']\n"
     ]
    }
   ],
   "source": [
    "# Viewing changes made to text\n",
    "for i in heading_tokens:\n",
    "    print(i)"
   ]
  },
  {
   "cell_type": "code",
   "execution_count": 32,
   "metadata": {},
   "outputs": [],
   "source": [
    "heading_dict={}\n",
    "\n",
    "for i in range(len(heading_tokens)):\n",
    "    heading_dict[i]=pd.DataFrame(heading_tokens[i],columns={\"Original_word\"})"
   ]
  },
  {
   "cell_type": "code",
   "execution_count": 30,
   "metadata": {},
   "outputs": [],
   "source": [
    "# Initialize the WordNet lemmatizer\n",
    "lemmatizer = WordNetLemmatizer()"
   ]
  },
  {
   "cell_type": "code",
   "execution_count": 31,
   "metadata": {},
   "outputs": [],
   "source": [
    "# Initialize the stemming object\n",
    "stemmer = PorterStemmer()"
   ]
  },
  {
   "cell_type": "code",
   "execution_count": 37,
   "metadata": {},
   "outputs": [],
   "source": [
    "# creating new columns for each dataframe of the lemmatized and stemmed word from the original word\n",
    "for i in heading_dict:\n",
    "    heading_dict[i]['Lemmatized_word']=heading_dict[i]['Original_word'].apply(lambda x: lemmatizer.lemmatize(x))\n",
    "    heading_dict[i]['Stemmed_word']=heading_dict[i]['Original_word'].apply(lambda x: stemmer.stem(x))"
   ]
  },
  {
   "cell_type": "markdown",
   "metadata": {},
   "source": [
    "#### UNDERSTANDING THE DIFFERENCE BETWEEN LEMMATIZING AND STEMMING\n",
    "\n",
    "We see that Lemmatizing the word makes sensible english words while stemmed words reduced to word but it is not always sensible as seen below"
   ]
  },
  {
   "cell_type": "code",
   "execution_count": 41,
   "metadata": {},
   "outputs": [
    {
     "data": {
      "text/html": [
       "<div>\n",
       "<style scoped>\n",
       "    .dataframe tbody tr th:only-of-type {\n",
       "        vertical-align: middle;\n",
       "    }\n",
       "\n",
       "    .dataframe tbody tr th {\n",
       "        vertical-align: top;\n",
       "    }\n",
       "\n",
       "    .dataframe thead th {\n",
       "        text-align: right;\n",
       "    }\n",
       "</style>\n",
       "<table border=\"1\" class=\"dataframe\">\n",
       "  <thead>\n",
       "    <tr style=\"text-align: right;\">\n",
       "      <th></th>\n",
       "      <th>Original_word</th>\n",
       "      <th>Lemmatized_word</th>\n",
       "      <th>Stemmed_word</th>\n",
       "    </tr>\n",
       "  </thead>\n",
       "  <tbody>\n",
       "    <tr>\n",
       "      <th>0</th>\n",
       "      <td>why</td>\n",
       "      <td>why</td>\n",
       "      <td>whi</td>\n",
       "    </tr>\n",
       "    <tr>\n",
       "      <th>1</th>\n",
       "      <td>a</td>\n",
       "      <td>a</td>\n",
       "      <td>a</td>\n",
       "    </tr>\n",
       "    <tr>\n",
       "      <th>2</th>\n",
       "      <td>hologram</td>\n",
       "      <td>hologram</td>\n",
       "      <td>hologram</td>\n",
       "    </tr>\n",
       "    <tr>\n",
       "      <th>3</th>\n",
       "      <td>revolution</td>\n",
       "      <td>revolution</td>\n",
       "      <td>revolut</td>\n",
       "    </tr>\n",
       "    <tr>\n",
       "      <th>4</th>\n",
       "      <td>could</td>\n",
       "      <td>could</td>\n",
       "      <td>could</td>\n",
       "    </tr>\n",
       "    <tr>\n",
       "      <th>5</th>\n",
       "      <td>be</td>\n",
       "      <td>be</td>\n",
       "      <td>be</td>\n",
       "    </tr>\n",
       "    <tr>\n",
       "      <th>6</th>\n",
       "      <td>on</td>\n",
       "      <td>on</td>\n",
       "      <td>on</td>\n",
       "    </tr>\n",
       "    <tr>\n",
       "      <th>7</th>\n",
       "      <td>the</td>\n",
       "      <td>the</td>\n",
       "      <td>the</td>\n",
       "    </tr>\n",
       "    <tr>\n",
       "      <th>8</th>\n",
       "      <td>way</td>\n",
       "      <td>way</td>\n",
       "      <td>way</td>\n",
       "    </tr>\n",
       "  </tbody>\n",
       "</table>\n",
       "</div>"
      ],
      "text/plain": [
       "  Original_word Lemmatized_word Stemmed_word\n",
       "0           why             why          whi\n",
       "1             a               a            a\n",
       "2      hologram        hologram     hologram\n",
       "3    revolution      revolution      revolut\n",
       "4         could           could        could\n",
       "5            be              be           be\n",
       "6            on              on           on\n",
       "7           the             the          the\n",
       "8           way             way          way"
      ]
     },
     "execution_count": 41,
     "metadata": {},
     "output_type": "execute_result"
    }
   ],
   "source": [
    "heading_dict[0].head(10)"
   ]
  },
  {
   "cell_type": "code",
   "execution_count": 42,
   "metadata": {},
   "outputs": [
    {
     "data": {
      "text/html": [
       "<div>\n",
       "<style scoped>\n",
       "    .dataframe tbody tr th:only-of-type {\n",
       "        vertical-align: middle;\n",
       "    }\n",
       "\n",
       "    .dataframe tbody tr th {\n",
       "        vertical-align: top;\n",
       "    }\n",
       "\n",
       "    .dataframe thead th {\n",
       "        text-align: right;\n",
       "    }\n",
       "</style>\n",
       "<table border=\"1\" class=\"dataframe\">\n",
       "  <thead>\n",
       "    <tr style=\"text-align: right;\">\n",
       "      <th></th>\n",
       "      <th>Original_word</th>\n",
       "      <th>Lemmatized_word</th>\n",
       "      <th>Stemmed_word</th>\n",
       "    </tr>\n",
       "  </thead>\n",
       "  <tbody>\n",
       "    <tr>\n",
       "      <th>0</th>\n",
       "      <td>can</td>\n",
       "      <td>can</td>\n",
       "      <td>can</td>\n",
       "    </tr>\n",
       "    <tr>\n",
       "      <th>1</th>\n",
       "      <td>german</td>\n",
       "      <td>german</td>\n",
       "      <td>german</td>\n",
       "    </tr>\n",
       "    <tr>\n",
       "      <th>2</th>\n",
       "      <td>engineering</td>\n",
       "      <td>engineering</td>\n",
       "      <td>engin</td>\n",
       "    </tr>\n",
       "    <tr>\n",
       "      <th>3</th>\n",
       "      <td>solve</td>\n",
       "      <td>solve</td>\n",
       "      <td>solv</td>\n",
       "    </tr>\n",
       "    <tr>\n",
       "      <th>4</th>\n",
       "      <td>the</td>\n",
       "      <td>the</td>\n",
       "      <td>the</td>\n",
       "    </tr>\n",
       "    <tr>\n",
       "      <th>5</th>\n",
       "      <td>challenges</td>\n",
       "      <td>challenge</td>\n",
       "      <td>challeng</td>\n",
       "    </tr>\n",
       "    <tr>\n",
       "      <th>6</th>\n",
       "      <td>of</td>\n",
       "      <td>of</td>\n",
       "      <td>of</td>\n",
       "    </tr>\n",
       "    <tr>\n",
       "      <th>7</th>\n",
       "      <td>fusion</td>\n",
       "      <td>fusion</td>\n",
       "      <td>fusion</td>\n",
       "    </tr>\n",
       "  </tbody>\n",
       "</table>\n",
       "</div>"
      ],
      "text/plain": [
       "  Original_word Lemmatized_word Stemmed_word\n",
       "0           can             can          can\n",
       "1        german          german       german\n",
       "2   engineering     engineering        engin\n",
       "3         solve           solve         solv\n",
       "4           the             the          the\n",
       "5    challenges       challenge     challeng\n",
       "6            of              of           of\n",
       "7        fusion          fusion       fusion"
      ]
     },
     "execution_count": 42,
     "metadata": {},
     "output_type": "execute_result"
    }
   ],
   "source": [
    "heading_dict[1].head(10)"
   ]
  },
  {
   "cell_type": "code",
   "execution_count": 43,
   "metadata": {},
   "outputs": [
    {
     "data": {
      "text/html": [
       "<div>\n",
       "<style scoped>\n",
       "    .dataframe tbody tr th:only-of-type {\n",
       "        vertical-align: middle;\n",
       "    }\n",
       "\n",
       "    .dataframe tbody tr th {\n",
       "        vertical-align: top;\n",
       "    }\n",
       "\n",
       "    .dataframe thead th {\n",
       "        text-align: right;\n",
       "    }\n",
       "</style>\n",
       "<table border=\"1\" class=\"dataframe\">\n",
       "  <thead>\n",
       "    <tr style=\"text-align: right;\">\n",
       "      <th></th>\n",
       "      <th>Original_word</th>\n",
       "      <th>Lemmatized_word</th>\n",
       "      <th>Stemmed_word</th>\n",
       "    </tr>\n",
       "  </thead>\n",
       "  <tbody>\n",
       "    <tr>\n",
       "      <th>0</th>\n",
       "      <td>can</td>\n",
       "      <td>can</td>\n",
       "      <td>can</td>\n",
       "    </tr>\n",
       "    <tr>\n",
       "      <th>1</th>\n",
       "      <td>tech</td>\n",
       "      <td>tech</td>\n",
       "      <td>tech</td>\n",
       "    </tr>\n",
       "    <tr>\n",
       "      <th>2</th>\n",
       "      <td>stop</td>\n",
       "      <td>stop</td>\n",
       "      <td>stop</td>\n",
       "    </tr>\n",
       "    <tr>\n",
       "      <th>3</th>\n",
       "      <td>india</td>\n",
       "      <td>india</td>\n",
       "      <td>india</td>\n",
       "    </tr>\n",
       "    <tr>\n",
       "      <th>4</th>\n",
       "      <td>wasting</td>\n",
       "      <td>wasting</td>\n",
       "      <td>wast</td>\n",
       "    </tr>\n",
       "    <tr>\n",
       "      <th>5</th>\n",
       "      <td>so</td>\n",
       "      <td>so</td>\n",
       "      <td>so</td>\n",
       "    </tr>\n",
       "    <tr>\n",
       "      <th>6</th>\n",
       "      <td>much</td>\n",
       "      <td>much</td>\n",
       "      <td>much</td>\n",
       "    </tr>\n",
       "    <tr>\n",
       "      <th>7</th>\n",
       "      <td>of</td>\n",
       "      <td>of</td>\n",
       "      <td>of</td>\n",
       "    </tr>\n",
       "    <tr>\n",
       "      <th>8</th>\n",
       "      <td>its</td>\n",
       "      <td>it</td>\n",
       "      <td>it</td>\n",
       "    </tr>\n",
       "    <tr>\n",
       "      <th>9</th>\n",
       "      <td>harvest</td>\n",
       "      <td>harvest</td>\n",
       "      <td>harvest</td>\n",
       "    </tr>\n",
       "  </tbody>\n",
       "</table>\n",
       "</div>"
      ],
      "text/plain": [
       "  Original_word Lemmatized_word Stemmed_word\n",
       "0           can             can          can\n",
       "1          tech            tech         tech\n",
       "2          stop            stop         stop\n",
       "3         india           india        india\n",
       "4       wasting         wasting         wast\n",
       "5            so              so           so\n",
       "6          much            much         much\n",
       "7            of              of           of\n",
       "8           its              it           it\n",
       "9       harvest         harvest      harvest"
      ]
     },
     "execution_count": 43,
     "metadata": {},
     "output_type": "execute_result"
    }
   ],
   "source": [
    "heading_dict[2].head(10)"
   ]
  },
  {
   "cell_type": "code",
   "execution_count": 44,
   "metadata": {},
   "outputs": [
    {
     "data": {
      "text/html": [
       "<div>\n",
       "<style scoped>\n",
       "    .dataframe tbody tr th:only-of-type {\n",
       "        vertical-align: middle;\n",
       "    }\n",
       "\n",
       "    .dataframe tbody tr th {\n",
       "        vertical-align: top;\n",
       "    }\n",
       "\n",
       "    .dataframe thead th {\n",
       "        text-align: right;\n",
       "    }\n",
       "</style>\n",
       "<table border=\"1\" class=\"dataframe\">\n",
       "  <thead>\n",
       "    <tr style=\"text-align: right;\">\n",
       "      <th></th>\n",
       "      <th>Original_word</th>\n",
       "      <th>Lemmatized_word</th>\n",
       "      <th>Stemmed_word</th>\n",
       "    </tr>\n",
       "  </thead>\n",
       "  <tbody>\n",
       "    <tr>\n",
       "      <th>0</th>\n",
       "      <td>us-china</td>\n",
       "      <td>us-china</td>\n",
       "      <td>us-china</td>\n",
       "    </tr>\n",
       "    <tr>\n",
       "      <th>1</th>\n",
       "      <td>rivalry</td>\n",
       "      <td>rivalry</td>\n",
       "      <td>rivalri</td>\n",
       "    </tr>\n",
       "    <tr>\n",
       "      <th>2</th>\n",
       "      <td>spurs</td>\n",
       "      <td>spur</td>\n",
       "      <td>spur</td>\n",
       "    </tr>\n",
       "    <tr>\n",
       "      <th>3</th>\n",
       "      <td>investment</td>\n",
       "      <td>investment</td>\n",
       "      <td>invest</td>\n",
       "    </tr>\n",
       "    <tr>\n",
       "      <th>4</th>\n",
       "      <td>in</td>\n",
       "      <td>in</td>\n",
       "      <td>in</td>\n",
       "    </tr>\n",
       "    <tr>\n",
       "      <th>5</th>\n",
       "      <td>space</td>\n",
       "      <td>space</td>\n",
       "      <td>space</td>\n",
       "    </tr>\n",
       "    <tr>\n",
       "      <th>6</th>\n",
       "      <td>tech</td>\n",
       "      <td>tech</td>\n",
       "      <td>tech</td>\n",
       "    </tr>\n",
       "  </tbody>\n",
       "</table>\n",
       "</div>"
      ],
      "text/plain": [
       "  Original_word Lemmatized_word Stemmed_word\n",
       "0      us-china        us-china     us-china\n",
       "1       rivalry         rivalry      rivalri\n",
       "2         spurs            spur         spur\n",
       "3    investment      investment       invest\n",
       "4            in              in           in\n",
       "5         space           space        space\n",
       "6          tech            tech         tech"
      ]
     },
     "execution_count": 44,
     "metadata": {},
     "output_type": "execute_result"
    }
   ],
   "source": [
    "heading_dict[3].head(10)"
   ]
  },
  {
   "cell_type": "code",
   "execution_count": null,
   "metadata": {},
   "outputs": [],
   "source": []
  }
 ],
 "metadata": {
  "kernelspec": {
   "display_name": "Python 3",
   "language": "python",
   "name": "python3"
  },
  "language_info": {
   "codemirror_mode": {
    "name": "ipython",
    "version": 3
   },
   "file_extension": ".py",
   "mimetype": "text/x-python",
   "name": "python",
   "nbconvert_exporter": "python",
   "pygments_lexer": "ipython3",
   "version": "3.10.4"
  }
 },
 "nbformat": 4,
 "nbformat_minor": 2
}
