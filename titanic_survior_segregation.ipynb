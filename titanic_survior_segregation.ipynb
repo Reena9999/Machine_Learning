{
 "cells": [
  {
   "cell_type": "code",
   "execution_count": 2,
   "metadata": {},
   "outputs": [],
   "source": [
    "import pandas as pd\n",
    "import numpy as np\n",
    "from sklearn.tree import DecisionTreeClassifier\n",
    "from sklearn.model_selection import cross_val_score\n",
    "from sklearn.ensemble import BaggingClassifier\n",
    "import matplotlib.pylab as plt\n",
    "from matplotlib.ticker import StrMethodFormatter"
   ]
  },
  {
   "cell_type": "code",
   "execution_count": 3,
   "metadata": {},
   "outputs": [],
   "source": [
    "wine_df = pd.read_csv('wine.csv')"
   ]
  },
  {
   "cell_type": "code",
   "execution_count": 4,
   "metadata": {},
   "outputs": [
    {
     "data": {
      "text/html": [
       "<div>\n",
       "<style scoped>\n",
       "    .dataframe tbody tr th:only-of-type {\n",
       "        vertical-align: middle;\n",
       "    }\n",
       "\n",
       "    .dataframe tbody tr th {\n",
       "        vertical-align: top;\n",
       "    }\n",
       "\n",
       "    .dataframe thead th {\n",
       "        text-align: right;\n",
       "    }\n",
       "</style>\n",
       "<table border=\"1\" class=\"dataframe\">\n",
       "  <thead>\n",
       "    <tr style=\"text-align: right;\">\n",
       "      <th></th>\n",
       "      <th>PassengerId</th>\n",
       "      <th>Survived</th>\n",
       "      <th>Pclass</th>\n",
       "      <th>Name</th>\n",
       "      <th>Sex</th>\n",
       "      <th>Age</th>\n",
       "      <th>SibSp</th>\n",
       "      <th>Parch</th>\n",
       "      <th>Ticket</th>\n",
       "      <th>Fare</th>\n",
       "      <th>Cabin</th>\n",
       "      <th>Embarked</th>\n",
       "    </tr>\n",
       "  </thead>\n",
       "  <tbody>\n",
       "    <tr>\n",
       "      <th>0</th>\n",
       "      <td>892</td>\n",
       "      <td>0</td>\n",
       "      <td>3</td>\n",
       "      <td>Kelly, Mr. James</td>\n",
       "      <td>male</td>\n",
       "      <td>34.5</td>\n",
       "      <td>0</td>\n",
       "      <td>0</td>\n",
       "      <td>330911</td>\n",
       "      <td>7.8292</td>\n",
       "      <td>NaN</td>\n",
       "      <td>Q</td>\n",
       "    </tr>\n",
       "    <tr>\n",
       "      <th>1</th>\n",
       "      <td>893</td>\n",
       "      <td>1</td>\n",
       "      <td>3</td>\n",
       "      <td>Wilkes, Mrs. James (Ellen Needs)</td>\n",
       "      <td>female</td>\n",
       "      <td>47.0</td>\n",
       "      <td>1</td>\n",
       "      <td>0</td>\n",
       "      <td>363272</td>\n",
       "      <td>7.0000</td>\n",
       "      <td>NaN</td>\n",
       "      <td>S</td>\n",
       "    </tr>\n",
       "    <tr>\n",
       "      <th>2</th>\n",
       "      <td>894</td>\n",
       "      <td>0</td>\n",
       "      <td>2</td>\n",
       "      <td>Myles, Mr. Thomas Francis</td>\n",
       "      <td>male</td>\n",
       "      <td>62.0</td>\n",
       "      <td>0</td>\n",
       "      <td>0</td>\n",
       "      <td>240276</td>\n",
       "      <td>9.6875</td>\n",
       "      <td>NaN</td>\n",
       "      <td>Q</td>\n",
       "    </tr>\n",
       "    <tr>\n",
       "      <th>3</th>\n",
       "      <td>895</td>\n",
       "      <td>0</td>\n",
       "      <td>3</td>\n",
       "      <td>Wirz, Mr. Albert</td>\n",
       "      <td>male</td>\n",
       "      <td>27.0</td>\n",
       "      <td>0</td>\n",
       "      <td>0</td>\n",
       "      <td>315154</td>\n",
       "      <td>8.6625</td>\n",
       "      <td>NaN</td>\n",
       "      <td>S</td>\n",
       "    </tr>\n",
       "    <tr>\n",
       "      <th>4</th>\n",
       "      <td>896</td>\n",
       "      <td>1</td>\n",
       "      <td>3</td>\n",
       "      <td>Hirvonen, Mrs. Alexander (Helga E Lindqvist)</td>\n",
       "      <td>female</td>\n",
       "      <td>22.0</td>\n",
       "      <td>1</td>\n",
       "      <td>1</td>\n",
       "      <td>3101298</td>\n",
       "      <td>12.2875</td>\n",
       "      <td>NaN</td>\n",
       "      <td>S</td>\n",
       "    </tr>\n",
       "  </tbody>\n",
       "</table>\n",
       "</div>"
      ],
      "text/plain": [
       "   PassengerId  Survived  Pclass  \\\n",
       "0          892         0       3   \n",
       "1          893         1       3   \n",
       "2          894         0       2   \n",
       "3          895         0       3   \n",
       "4          896         1       3   \n",
       "\n",
       "                                           Name     Sex   Age  SibSp  Parch  \\\n",
       "0                              Kelly, Mr. James    male  34.5      0      0   \n",
       "1              Wilkes, Mrs. James (Ellen Needs)  female  47.0      1      0   \n",
       "2                     Myles, Mr. Thomas Francis    male  62.0      0      0   \n",
       "3                              Wirz, Mr. Albert    male  27.0      0      0   \n",
       "4  Hirvonen, Mrs. Alexander (Helga E Lindqvist)  female  22.0      1      1   \n",
       "\n",
       "    Ticket     Fare Cabin Embarked  \n",
       "0   330911   7.8292   NaN        Q  \n",
       "1   363272   7.0000   NaN        S  \n",
       "2   240276   9.6875   NaN        Q  \n",
       "3   315154   8.6625   NaN        S  \n",
       "4  3101298  12.2875   NaN        S  "
      ]
     },
     "execution_count": 4,
     "metadata": {},
     "output_type": "execute_result"
    }
   ],
   "source": [
    "titanic_df.head()"
   ]
  },
  {
   "cell_type": "code",
   "execution_count": 6,
   "metadata": {},
   "outputs": [
    {
     "ename": "KeyError",
     "evalue": "'Survived'",
     "output_type": "error",
     "traceback": [
      "\u001b[1;31m---------------------------------------------------------------------------\u001b[0m",
      "\u001b[1;31mKeyError\u001b[0m                                  Traceback (most recent call last)",
      "File \u001b[1;32m~\\AppData\\Roaming\\Python\\Python310\\site-packages\\pandas\\core\\indexes\\base.py:3621\u001b[0m, in \u001b[0;36mIndex.get_loc\u001b[1;34m(self, key, method, tolerance)\u001b[0m\n\u001b[0;32m   3620\u001b[0m \u001b[39mtry\u001b[39;00m:\n\u001b[1;32m-> 3621\u001b[0m     \u001b[39mreturn\u001b[39;00m \u001b[39mself\u001b[39;49m\u001b[39m.\u001b[39;49m_engine\u001b[39m.\u001b[39;49mget_loc(casted_key)\n\u001b[0;32m   3622\u001b[0m \u001b[39mexcept\u001b[39;00m \u001b[39mKeyError\u001b[39;00m \u001b[39mas\u001b[39;00m err:\n",
      "File \u001b[1;32m~\\AppData\\Roaming\\Python\\Python310\\site-packages\\pandas\\_libs\\index.pyx:136\u001b[0m, in \u001b[0;36mpandas._libs.index.IndexEngine.get_loc\u001b[1;34m()\u001b[0m\n",
      "File \u001b[1;32m~\\AppData\\Roaming\\Python\\Python310\\site-packages\\pandas\\_libs\\index.pyx:163\u001b[0m, in \u001b[0;36mpandas._libs.index.IndexEngine.get_loc\u001b[1;34m()\u001b[0m\n",
      "File \u001b[1;32mpandas\\_libs\\hashtable_class_helper.pxi:5198\u001b[0m, in \u001b[0;36mpandas._libs.hashtable.PyObjectHashTable.get_item\u001b[1;34m()\u001b[0m\n",
      "File \u001b[1;32mpandas\\_libs\\hashtable_class_helper.pxi:5206\u001b[0m, in \u001b[0;36mpandas._libs.hashtable.PyObjectHashTable.get_item\u001b[1;34m()\u001b[0m\n",
      "\u001b[1;31mKeyError\u001b[0m: 'Survived'",
      "\nThe above exception was the direct cause of the following exception:\n",
      "\u001b[1;31mKeyError\u001b[0m                                  Traceback (most recent call last)",
      "\u001b[1;32mc:\\Users\\HP\\OneDrive\\Documents\\Post_Grad\\Semester_2\\Machine_Learning\\Lab10.ipynb Cell 4\u001b[0m in \u001b[0;36m<cell line: 1>\u001b[1;34m()\u001b[0m\n\u001b[1;32m----> <a href='vscode-notebook-cell:/c%3A/Users/HP/OneDrive/Documents/Post_Grad/Semester_2/Machine_Learning/Lab10.ipynb#W3sZmlsZQ%3D%3D?line=0'>1</a>\u001b[0m y \u001b[39m=\u001b[39m titanic_df\u001b[39m.\u001b[39;49mpop(\u001b[39m'\u001b[39;49m\u001b[39mSurvived\u001b[39;49m\u001b[39m'\u001b[39;49m)\u001b[39m.\u001b[39mvalues\n\u001b[0;32m      <a href='vscode-notebook-cell:/c%3A/Users/HP/OneDrive/Documents/Post_Grad/Semester_2/Machine_Learning/Lab10.ipynb#W3sZmlsZQ%3D%3D?line=1'>2</a>\u001b[0m X \u001b[39m=\u001b[39m titanic_df\u001b[39m.\u001b[39mvalues\n\u001b[0;32m      <a href='vscode-notebook-cell:/c%3A/Users/HP/OneDrive/Documents/Post_Grad/Semester_2/Machine_Learning/Lab10.ipynb#W3sZmlsZQ%3D%3D?line=2'>3</a>\u001b[0m X\u001b[39m.\u001b[39mshape\n",
      "File \u001b[1;32m~\\AppData\\Roaming\\Python\\Python310\\site-packages\\pandas\\core\\frame.py:5264\u001b[0m, in \u001b[0;36mDataFrame.pop\u001b[1;34m(self, item)\u001b[0m\n\u001b[0;32m   5223\u001b[0m \u001b[39mdef\u001b[39;00m \u001b[39mpop\u001b[39m(\u001b[39mself\u001b[39m, item: Hashable) \u001b[39m-\u001b[39m\u001b[39m>\u001b[39m Series:\n\u001b[0;32m   5224\u001b[0m     \u001b[39m\"\"\"\u001b[39;00m\n\u001b[0;32m   5225\u001b[0m \u001b[39m    Return item and drop from frame. Raise KeyError if not found.\u001b[39;00m\n\u001b[0;32m   5226\u001b[0m \n\u001b[1;32m   (...)\u001b[0m\n\u001b[0;32m   5262\u001b[0m \u001b[39m    3  monkey        NaN\u001b[39;00m\n\u001b[0;32m   5263\u001b[0m \u001b[39m    \"\"\"\u001b[39;00m\n\u001b[1;32m-> 5264\u001b[0m     \u001b[39mreturn\u001b[39;00m \u001b[39msuper\u001b[39;49m()\u001b[39m.\u001b[39;49mpop(item\u001b[39m=\u001b[39;49mitem)\n",
      "File \u001b[1;32m~\\AppData\\Roaming\\Python\\Python310\\site-packages\\pandas\\core\\generic.py:873\u001b[0m, in \u001b[0;36mNDFrame.pop\u001b[1;34m(self, item)\u001b[0m\n\u001b[0;32m    872\u001b[0m \u001b[39mdef\u001b[39;00m \u001b[39mpop\u001b[39m(\u001b[39mself\u001b[39m, item: Hashable) \u001b[39m-\u001b[39m\u001b[39m>\u001b[39m Series \u001b[39m|\u001b[39m Any:\n\u001b[1;32m--> 873\u001b[0m     result \u001b[39m=\u001b[39m \u001b[39mself\u001b[39;49m[item]\n\u001b[0;32m    874\u001b[0m     \u001b[39mdel\u001b[39;00m \u001b[39mself\u001b[39m[item]\n\u001b[0;32m    876\u001b[0m     \u001b[39mreturn\u001b[39;00m result\n",
      "File \u001b[1;32m~\\AppData\\Roaming\\Python\\Python310\\site-packages\\pandas\\core\\frame.py:3505\u001b[0m, in \u001b[0;36mDataFrame.__getitem__\u001b[1;34m(self, key)\u001b[0m\n\u001b[0;32m   3503\u001b[0m \u001b[39mif\u001b[39;00m \u001b[39mself\u001b[39m\u001b[39m.\u001b[39mcolumns\u001b[39m.\u001b[39mnlevels \u001b[39m>\u001b[39m \u001b[39m1\u001b[39m:\n\u001b[0;32m   3504\u001b[0m     \u001b[39mreturn\u001b[39;00m \u001b[39mself\u001b[39m\u001b[39m.\u001b[39m_getitem_multilevel(key)\n\u001b[1;32m-> 3505\u001b[0m indexer \u001b[39m=\u001b[39m \u001b[39mself\u001b[39;49m\u001b[39m.\u001b[39;49mcolumns\u001b[39m.\u001b[39;49mget_loc(key)\n\u001b[0;32m   3506\u001b[0m \u001b[39mif\u001b[39;00m is_integer(indexer):\n\u001b[0;32m   3507\u001b[0m     indexer \u001b[39m=\u001b[39m [indexer]\n",
      "File \u001b[1;32m~\\AppData\\Roaming\\Python\\Python310\\site-packages\\pandas\\core\\indexes\\base.py:3623\u001b[0m, in \u001b[0;36mIndex.get_loc\u001b[1;34m(self, key, method, tolerance)\u001b[0m\n\u001b[0;32m   3621\u001b[0m     \u001b[39mreturn\u001b[39;00m \u001b[39mself\u001b[39m\u001b[39m.\u001b[39m_engine\u001b[39m.\u001b[39mget_loc(casted_key)\n\u001b[0;32m   3622\u001b[0m \u001b[39mexcept\u001b[39;00m \u001b[39mKeyError\u001b[39;00m \u001b[39mas\u001b[39;00m err:\n\u001b[1;32m-> 3623\u001b[0m     \u001b[39mraise\u001b[39;00m \u001b[39mKeyError\u001b[39;00m(key) \u001b[39mfrom\u001b[39;00m \u001b[39merr\u001b[39;00m\n\u001b[0;32m   3624\u001b[0m \u001b[39mexcept\u001b[39;00m \u001b[39mTypeError\u001b[39;00m:\n\u001b[0;32m   3625\u001b[0m     \u001b[39m# If we have a listlike key, _check_indexing_error will raise\u001b[39;00m\n\u001b[0;32m   3626\u001b[0m     \u001b[39m#  InvalidIndexError. Otherwise we fall through and re-raise\u001b[39;00m\n\u001b[0;32m   3627\u001b[0m     \u001b[39m#  the TypeError.\u001b[39;00m\n\u001b[0;32m   3628\u001b[0m     \u001b[39mself\u001b[39m\u001b[39m.\u001b[39m_check_indexing_error(key)\n",
      "\u001b[1;31mKeyError\u001b[0m: 'Survived'"
     ]
    }
   ],
   "source": [
    "y = titanic_df.pop('Survived').values\n",
    "X = titanic_df.values\n",
    "X.shape"
   ]
  },
  {
   "cell_type": "code",
   "execution_count": 7,
   "metadata": {},
   "outputs": [],
   "source": [
    "dtree = DecisionTreeClassifier(criterion='entropy')"
   ]
  },
  {
   "cell_type": "code",
   "execution_count": 8,
   "metadata": {},
   "outputs": [],
   "source": [
    "n_reps = 50\n",
    "folds = 4\n",
    "est_range = range(2,16)\n",
    "n_est_dict = {}\n",
    "for n_est in est_range: \n",
    "    scores = []\n",
    "    for rep in range(n_reps):\n",
    "        tree_bag = BaggingClassifier(dtree, \n",
    "                            n_estimators = n_est,\n",
    "                            max_samples = 1.0, # bootstrap resampling \n",
    "                            bootstrap = True)\n",
    "        scores_tree_bag = cross_val_score(tree_bag, X, y, cv=folds, n_jobs = -1)\n",
    "        scores.append(scores_tree_bag.mean())\n",
    "    n_est_dict[n_est]=np.array(scores).mean()"
   ]
  },
  {
   "cell_type": "code",
   "execution_count": 9,
   "metadata": {},
   "outputs": [
    {
     "data": {
      "image/png": "[encoded data removed]",
      "text/plain": [
       "<Figure size 360x288 with 1 Axes>"
      ]
     },
     "metadata": {
      "needs_background": "light"
     },
     "output_type": "display_data"
    }
   ],
   "source": [
    "res_list = sorted(n_est_dict.items()) # sorted by key, return a list of tuples\n",
    "nc, accs = zip(*res_list) # unpack a list of pairs into two tuples\n",
    "f = plt.figure(figsize=(5,4))\n",
    "\n",
    "plt.plot(nc, accs, lw = 3)\n",
    "\n",
    "plt.xlabel(\"Number of estimators\")\n",
    "plt.ylabel(\"Accuracy\")\n",
    "f.savefig('acc-est.pdf')"
   ]
  },
  {
   "cell_type": "code",
   "execution_count": 10,
   "metadata": {},
   "outputs": [],
   "source": [
    "n_reps = 50\n",
    "n_est = 10\n",
    "res_dict = {}\n",
    "max_s_range = np.arange(0.95,0.4,-0.05)\n",
    "for max_s in max_s_range:\n",
    "    scores = []\n",
    "    for rep in range(n_reps):\n",
    "        tree_bag = BaggingClassifier(dtree, \n",
    "                            n_estimators = n_est,\n",
    "                            max_samples = max_s,  \n",
    "                            bootstrap = False)\n",
    "        scores_tree_bag = cross_val_score(tree_bag, X, y, cv=folds, n_jobs = -1)\n",
    "        scores.append(scores_tree_bag.mean())\n",
    "    res_dict[max_s]=np.array(scores).mean()"
   ]
  },
  {
   "cell_type": "code",
   "execution_count": 11,
   "metadata": {},
   "outputs": [
    {
     "data": {
      "image/png": "[encoded data removed]",
      "text/plain": [
       "<Figure size 360x288 with 1 Axes>"
      ]
     },
     "metadata": {
      "needs_background": "light"
     },
     "output_type": "display_data"
    }
   ],
   "source": [
    "res_list = sorted(res_dict.items())\n",
    "ns, accs = zip(*res_list) \n",
    "f = plt.figure(figsize=(5,4))\n",
    "\n",
    "plt.plot(ns, accs, lw = 3, color = 'r')\n",
    "plt.xlim([1, 0.4])\n",
    "plt.xlabel(\"Proportion of data used in training\")\n",
    "plt.ylabel(\"Accuracy\")\n",
    "plt.gca().yaxis.set_major_formatter(StrMethodFormatter('{x:,.2f}')) \n",
    "f.savefig('acc-div.pdf')"
   ]
  },
  {
   "cell_type": "code",
   "execution_count": 12,
   "metadata": {},
   "outputs": [
    {
     "data": {
      "text/plain": [
       "625"
      ]
     },
     "execution_count": 12,
     "metadata": {},
     "output_type": "execute_result"
    }
   ],
   "source": [
    "N = 1000\n",
    "data = np.arange(N)\n",
    "BS = np.random.choice(data, size = N)\n",
    "BS_unique = set(BS)\n",
    "len(BS_unique)"
   ]
  },
  {
   "cell_type": "code",
   "execution_count": 13,
   "metadata": {},
   "outputs": [],
   "source": [
    "from sklearn.neighbors import KNeighborsClassifier\n",
    "from sklearn.tree import DecisionTreeClassifier\n",
    "from sklearn.neural_network import MLPClassifier\n",
    "from sklearn.naive_bayes import GaussianNB\n",
    "from sklearn.linear_model import LogisticRegression\n",
    "from sklearn.model_selection import cross_val_score, cross_validate, RepeatedKFold\n",
    "from sklearn.model_selection import train_test_split\n",
    "from sklearn.ensemble import BaggingClassifier\n",
    "from sklearn.preprocessing import StandardScaler\n",
    "from sklearn.pipeline import Pipeline\n",
    "dtree = DecisionTreeClassifier(criterion='entropy')"
   ]
  },
  {
   "cell_type": "code",
   "execution_count": 14,
   "metadata": {},
   "outputs": [],
   "source": [
    " def eval_bag_est_range(the_est, n_reps, est_range, folds = 10):\n",
    "    n_est_dict = {}\n",
    "    for n_est in est_range: \n",
    "        the_bag = BaggingClassifier(the_est, \n",
    "                            n_estimators = n_est,\n",
    "                            max_samples = 1.0,  \n",
    "                            bootstrap = True)\n",
    "        bag_cv = cross_validate(the_bag, X, y, n_jobs=-1,\n",
    "                                cv=RepeatedKFold(n_splits=folds, n_repeats=n_reps)) \n",
    "        n_est_dict[n_est]=bag_cv['test_score'].mean()\n",
    "    return n_est_dict"
   ]
  },
  {
   "cell_type": "code",
   "execution_count": 15,
   "metadata": {},
   "outputs": [],
   "source": [
    "kNNpipe  = Pipeline(steps=[ ('scaler', StandardScaler()),\n",
    "                           ('classifier', KNeighborsClassifier(n_neighbors=1))])\n",
    "\n",
    "NNPipe = Pipeline(steps=[ ('scaler', StandardScaler()),\n",
    "                           ('classifier', MLPClassifier(solver='lbfgs', alpha=1e-5,\n",
    "                                                        hidden_layer_sizes=(5, 2)))])"
   ]
  },
  {
   "cell_type": "code",
   "execution_count": 16,
   "metadata": {},
   "outputs": [],
   "source": [
    "res_NN_bag = eval_bag_est_range(NNPipe, 10, range(2,16))"
   ]
  },
  {
   "cell_type": "code",
   "execution_count": 17,
   "metadata": {},
   "outputs": [
    {
     "data": {
      "text/plain": [
       "{2: 0.9606209150326798,\n",
       " 3: 0.9663398692810458,\n",
       " 4: 0.9740522875816994,\n",
       " 5: 0.9719934640522875,\n",
       " 6: 0.9769281045751634,\n",
       " 7: 0.9740849673202615,\n",
       " 8: 0.9769281045751634,\n",
       " 9: 0.9758496732026144,\n",
       " 10: 0.9752614379084967,\n",
       " 11: 0.9741830065359476,\n",
       " 12: 0.9814379084967321,\n",
       " 13: 0.9815359477124184,\n",
       " 14: 0.9799346405228759,\n",
       " 15: 0.9756209150326797}"
      ]
     },
     "execution_count": 17,
     "metadata": {},
     "output_type": "execute_result"
    }
   ],
   "source": [
    "res_NN_bag"
   ]
  },
  {
   "cell_type": "code",
   "execution_count": 18,
   "metadata": {},
   "outputs": [],
   "source": [
    "res_kNN_bag  = eval_bag_est_range(kNNpipe, 10, range(2,16))"
   ]
  },
  {
   "cell_type": "code",
   "execution_count": 19,
   "metadata": {},
   "outputs": [
    {
     "data": {
      "text/plain": [
       "{2: 0.9413725490196079,\n",
       " 3: 0.9508496732026144,\n",
       " 4: 0.9498692810457517,\n",
       " 5: 0.953954248366013,\n",
       " 6: 0.9532352941176471,\n",
       " 7: 0.954967320261438,\n",
       " 8: 0.9552614379084967,\n",
       " 9: 0.9541176470588236,\n",
       " 10: 0.9545098039215687,\n",
       " 11: 0.9537254901960784,\n",
       " 12: 0.9578758169934641,\n",
       " 13: 0.9527777777777778,\n",
       " 14: 0.9509150326797385,\n",
       " 15: 0.9562745098039216}"
      ]
     },
     "execution_count": 19,
     "metadata": {},
     "output_type": "execute_result"
    }
   ],
   "source": [
    "res_kNN_bag"
   ]
  },
  {
   "cell_type": "code",
   "execution_count": 20,
   "metadata": {},
   "outputs": [
    {
     "data": {
      "image/png": "[encoded data removed]",
      "text/plain": [
       "<Figure size 360x288 with 1 Axes>"
      ]
     },
     "metadata": {
      "needs_background": "light"
     },
     "output_type": "display_data"
    }
   ],
   "source": [
    "kNN_list = sorted(res_kNN_bag.items()) \n",
    "nc, kNN_accs = zip(*kNN_list) \n",
    "NN_list = sorted(res_NN_bag.items())\n",
    "nc, NN_accs = zip(*NN_list) \n",
    "\n",
    "f = plt.figure(figsize=(5,4))\n",
    "\n",
    "plt.plot(nc, NN_accs, lw = 2, color = 'r', label = 'Neural Net')\n",
    "plt.plot(nc, kNN_accs, lw = 2, color = 'orange', label = 'k-NN')\n",
    "\n",
    "plt.xlabel(\"Number of estimators\")\n",
    "plt.ylabel(\"Accuracy\")\n",
    "plt.ylim([0.94,1])\n",
    "plt.legend(loc = 'upper left')\n",
    "plt.grid(axis = 'y')\n",
    "f.savefig('bag-est-plot.pdf')"
   ]
  },
  {
   "cell_type": "code",
   "execution_count": 21,
   "metadata": {},
   "outputs": [],
   "source": [
    "clf_dict = {}\n",
    "clf_dict['Tree'] = DecisionTreeClassifier(max_leaf_nodes = 6)\n",
    "clf_dict['Neural Net'] = MLPClassifier(solver='lbfgs', alpha=1e-5, \n",
    "                                       hidden_layer_sizes=(5, 2))\n",
    "clf_dict['Logistic'] = LogisticRegression(solver = 'lbfgs')\n",
    "clf_dict['k-NN'] = KNeighborsClassifier(n_neighbors=1)\n",
    "clf_dict['Bayes'] = GaussianNB()"
   ]
  },
  {
   "cell_type": "code",
   "execution_count": 22,
   "metadata": {},
   "outputs": [
    {
     "name": "stdout",
     "output_type": "stream",
     "text": [
      "Mean for Tree 0.89\n",
      "Mean for Tree bag 0.95\n",
      "Mean for Neural Net 0.94\n",
      "Mean for Neural Net bag 0.98\n",
      "Mean for Logistic 0.98\n",
      "Mean for Logistic bag 0.98\n",
      "Mean for k-NN 0.96\n",
      "Mean for k-NN bag 0.96\n",
      "Mean for Bayes 0.98\n",
      "Mean for Bayes bag 0.98\n"
     ]
    }
   ],
   "source": [
    "clf_acc = {}\n",
    "bag_acc = {}\n",
    "folds, n_reps = 10,10\n",
    "n_est = 10\n",
    "v = 0\n",
    "for c_name in clf_dict.keys():\n",
    "    pipe  = Pipeline(steps=[ ('scaler', StandardScaler()),\n",
    "                           ('classifier', clf_dict[c_name])])\n",
    "    clf_cv = cross_validate(pipe, X, y, n_jobs=-1,\n",
    "                                    cv=RepeatedKFold(n_splits=folds, n_repeats=n_reps))\n",
    "\n",
    "    the_bag = BaggingClassifier(pipe, \n",
    "                            n_estimators = n_est,\n",
    "                            max_samples = 1.0, \n",
    "                            bootstrap = True)\n",
    "    bag_cv = cross_validate(the_bag, X, y, n_jobs=-1,\n",
    "                                    cv=RepeatedKFold(n_splits=folds, n_repeats=n_reps))\n",
    "    \n",
    "    clf_acc[c_name] = clf_cv['test_score'].mean()\n",
    "    bag_acc[c_name] = bag_cv['test_score'].mean()\n",
    "    print(\"Mean for {:s} {:.2f}\".format(c_name, clf_cv['test_score'].mean()))\n",
    "    print(\"Mean for {:s} bag {:.2f}\".format(c_name, bag_cv['test_score'].mean()))"
   ]
  },
  {
   "cell_type": "code",
   "execution_count": 23,
   "metadata": {},
   "outputs": [
    {
     "data": {
      "image/png": "[encoded data removed]",
      "text/plain": [
       "<Figure size 360x288 with 1 Axes>"
      ]
     },
     "metadata": {
      "needs_background": "light"
     },
     "output_type": "display_data"
    }
   ],
   "source": [
    "names = clf_dict.keys()\n",
    "y_pos = np.arange(len(names))\n",
    "f = plt.figure(figsize=(5,4))\n",
    "plt.bar(y_pos-0.15, clf_acc.values(), align='center', width = 0.3, alpha=0.5, \n",
    "        label = \"Classifier\")\n",
    "plt.bar(y_pos+0.15, bag_acc.values(), align='center', color = 'r', width = 0.3, alpha=0.5,\n",
    "       label = \"Ensemble\")\n",
    "plt.xticks(y_pos, names)\n",
    "plt.ylabel('Accuracy')\n",
    "#plt.xlabel(x_lab)\n",
    "#plt.title(title)\n",
    "plt.ylim((0.5,1))\n",
    "plt.grid(axis = 'y')\n",
    "plt.legend(loc = 'center right')\n",
    "plt.show()\n",
    "f.savefig('bag-est-bar.pdf')"
   ]
  },
  {
   "cell_type": "code",
   "execution_count": 24,
   "metadata": {},
   "outputs": [],
   "source": [
    "def do_colourmap (matrix, names, title = ' ', **kwargs):\n",
    "    if 'vmx' in kwargs:    \n",
    "        vmax_val = kwargs['vmx']\n",
    "    else: vmax_val = matrix.max()\n",
    "\n",
    "    fig, ax = plt.subplots(figsize=(5,5))\n",
    "    im = ax.imshow(matrix, cmap = 'gray', vmax= vmax_val)\n",
    "   \n",
    "    ax.set_xticks(np.arange(len(names)))\n",
    "    ax.set_yticks(np.arange(len(names)))\n",
    "    \n",
    "    ax.set_xticklabels(names)\n",
    "    ax.set_yticklabels(names)\n",
    "\n",
    "   \n",
    "    plt.setp(ax.get_xticklabels(), rotation=45, ha=\"right\",\n",
    "         rotation_mode=\"anchor\")\n",
    "\n",
    "    \n",
    "    for i in range(len(names)):\n",
    "        for j in range(len(names)):\n",
    "            text = ax.text(j, i, round(matrix[i, j],2), size = 14,\n",
    "                           ha=\"center\", va=\"center\", color=\"orange\")\n",
    "    ax.set_title(title)\n",
    "    fig.tight_layout()\n",
    "    plt.show()\n",
    "    return fig"
   ]
  },
  {
   "cell_type": "code",
   "execution_count": 25,
   "metadata": {},
   "outputs": [
    {
     "data": {
      "text/plain": [
       "((89, 13), (89, 13))"
      ]
     },
     "execution_count": 25,
     "metadata": {},
     "output_type": "execute_result"
    }
   ],
   "source": [
    "X_trainR, X_testR, y_train, y_test = train_test_split(X, y, test_size=0.5, random_state=42)\n",
    "scaler = StandardScaler()\n",
    "X_train = scaler.fit_transform(X_trainR)\n",
    "X_test = scaler.transform(X_testR)\n",
    "X_train.shape, X_test.shape"
   ]
  },
  {
   "cell_type": "code",
   "execution_count": 26,
   "metadata": {},
   "outputs": [],
   "source": [
    "stab_dict = {}\n",
    "\n",
    "NNPipe = Pipeline(steps=[ ('scaler', StandardScaler()),\n",
    "                           ('classifier', MLPClassifier(solver='lbfgs', alpha=1e-5,\n",
    "                                                        hidden_layer_sizes=(5, 2)\n",
    "                                                       ))])\n",
    "kNNpipe  = Pipeline(steps=[ ('scaler', StandardScaler()),\n",
    "                           ('classifier', KNeighborsClassifier(n_neighbors=1))])\n",
    "\n",
    "stab_dict['Neural Net'] = BaggingClassifier(NNPipe,\n",
    "                            n_estimators = n_est,\n",
    "                            max_samples = 1.0, \n",
    "                            bootstrap = True)\n",
    "stab_dict['kNN'] = BaggingClassifier(kNNpipe,\n",
    "                            n_estimators = n_est,\n",
    "                            max_samples = 1.0,\n",
    "                            bootstrap = True)"
   ]
  },
  {
   "cell_type": "code",
   "execution_count": 27,
   "metadata": {},
   "outputs": [],
   "source": [
    "from statistics import mode\n",
    "\n",
    "def plain_dis(l1, l2):\n",
    "    m = len(l1)\n",
    "    count = 0\n",
    "    for i, j in zip(l1,l2):\n",
    "        if i != j:\n",
    "            count += 1\n",
    "    return count/m\n",
    "\n",
    "\n",
    "def get_consensus_prediction (data_frame, columns):\n",
    "    res_data_frame = data_frame[columns]\n",
    "    consensus = []\n",
    "    for row in res_data_frame.iterrows():\n",
    "        consensus.append(mode(row[1]))\n",
    "    return "
   ]
  },
  {
   "cell_type": "code",
   "execution_count": 28,
   "metadata": {},
   "outputs": [],
   "source": [
    "dist_arr_dict = {}\n",
    "n_est = 5\n",
    "\n",
    "bag_names = []\n",
    "for i in range(n_est):\n",
    "    bag_names.append('Est '+ str(i+1))\n",
    "\n",
    "clfs = ['Neural Net', 'kNN']\n",
    "for clf_name in clfs:\n",
    "    the_bag = stab_dict[clf_name]\n",
    "    bag_ests = the_bag.fit(X_train,y_train).estimators_\n",
    "    bag_df = pd.DataFrame() \n",
    "    \n",
    "    for i, est in enumerate(bag_ests):\n",
    "        y_preds = est.predict(X_test)\n",
    "        bag_df['Est '+ str(i+1)]=y_preds\n",
    "    bag_df['Consensus'] = get_consensus_prediction(bag_df,bag_df.columns)\n",
    "    bag_df['Actual'] = y_test\n",
    "    bag_dis_arr = np.zeros((n_est,n_est))\n",
    "    for i_ind,i in enumerate(bag_names):\n",
    "        for j_ind,j in enumerate(bag_names):\n",
    "            bag_dis_arr[i_ind,j_ind] = plain_dis(bag_df[i],bag_df[j])\n",
    "    dist_arr_dict[clf_name] = bag_dis_arr"
   ]
  },
  {
   "cell_type": "code",
   "execution_count": 29,
   "metadata": {},
   "outputs": [
    {
     "name": "stdout",
     "output_type": "stream",
     "text": [
      "Max difference in NN Ensemble: 0.124\n",
      "Max difference in kNN Ensemble: 0.056\n",
      "Overall max is: 0.124\n"
     ]
    }
   ],
   "source": [
    "print('Max difference in NN Ensemble: %4.3f' % (dist_arr_dict['Neural Net'].max()))\n",
    "print('Max difference in kNN Ensemble: %4.3f' % (dist_arr_dict['kNN'].max()))\n",
    "maxv = max(dist_arr_dict['Neural Net'].max(),dist_arr_dict['kNN'].max())\n",
    "print('Overall max is: %4.3f' % maxv)"
   ]
  },
  {
   "cell_type": "code",
   "execution_count": 30,
   "metadata": {},
   "outputs": [
    {
     "data": {
      "image/png": "[encoded data removed]",
      "text/plain": [
       "<Figure size 360x360 with 1 Axes>"
      ]
     },
     "metadata": {
      "needs_background": "light"
     },
     "output_type": "display_data"
    }
   ],
   "source": [
    "f = do_colourmap(dist_arr_dict['kNN'], bag_names, \n",
    "             title = 'kNN ensemble disagreement', vmx = maxv)\n",
    "f.savefig('kNN-dis-arr.pdf')"
   ]
  },
  {
   "cell_type": "code",
   "execution_count": 31,
   "metadata": {},
   "outputs": [
    {
     "data": {
      "image/png": "[encoded data removed]",
      "text/plain": [
       "<Figure size 360x360 with 1 Axes>"
      ]
     },
     "metadata": {
      "needs_background": "light"
     },
     "output_type": "display_data"
    }
   ],
   "source": [
    "f = do_colourmap(dist_arr_dict['Neural Net'], bag_names, \n",
    "             title = 'Neural Net ensemble disagreement', vmx = maxv)\n",
    "f.savefig('NN-dis-arr.pdf')"
   ]
  },
  {
   "cell_type": "code",
   "execution_count": 32,
   "metadata": {},
   "outputs": [],
   "source": [
    "n_est = 20\n",
    "kNNpipe  = Pipeline(steps=[ ('scaler', StandardScaler()),\n",
    "                           ('classifier', KNeighborsClassifier(n_neighbors=1))])\n",
    "\n",
    "kNNbag = BaggingClassifier(kNNpipe,\n",
    "                            n_estimators = n_est,\n",
    "                            max_samples = 1.0, \n",
    "                            bootstrap = True)\n",
    "\n",
    "random_SS_kNN = BaggingClassifier(kNNpipe, \n",
    "                            n_estimators = n_est,\n",
    "                            max_samples=1.0, bootstrap = False,\n",
    "                            max_features=0.5)"
   ]
  },
  {
   "cell_type": "code",
   "execution_count": 33,
   "metadata": {},
   "outputs": [],
   "source": [
    "kNNbag_cv = cross_validate(kNNbag, X, y, n_jobs=-1,\n",
    "                        cv=RepeatedKFold(n_splits=folds, n_repeats=n_reps))"
   ]
  },
  {
   "cell_type": "code",
   "execution_count": 34,
   "metadata": {},
   "outputs": [
    {
     "data": {
      "text/plain": [
       "0.9550980392156864"
      ]
     },
     "execution_count": 34,
     "metadata": {},
     "output_type": "execute_result"
    }
   ],
   "source": [
    "kNNbag_cv['test_score'].mean()"
   ]
  },
  {
   "cell_type": "code",
   "execution_count": 35,
   "metadata": {},
   "outputs": [],
   "source": [
    "rSS_cv = cross_validate(random_SS_kNN, X, y, n_jobs=-1,\n",
    "                        cv=RepeatedKFold(n_splits=folds, n_repeats=n_reps))"
   ]
  },
  {
   "cell_type": "code",
   "execution_count": 36,
   "metadata": {},
   "outputs": [
    {
     "data": {
      "text/plain": [
       "0.9741830065359477"
      ]
     },
     "execution_count": 36,
     "metadata": {},
     "output_type": "execute_result"
    }
   ],
   "source": [
    "rSS_cv['test_score'].mean()"
   ]
  },
  {
   "cell_type": "code",
   "execution_count": 37,
   "metadata": {},
   "outputs": [
    {
     "name": "stdout",
     "output_type": "stream",
     "text": [
      "Mean for Neural Net 0.92\n",
      "Mean for Neural Net bag 0.98\n",
      "Mean for Neural Net RS 0.97\n",
      "Mean for k-NN 0.95\n",
      "Mean for k-NN bag 0.95\n",
      "Mean for k-NN RS 0.97\n"
     ]
    }
   ],
   "source": [
    "clf_acc = {}\n",
    "bag_acc = {}\n",
    "rs_acc = {}\n",
    "folds, n_reps = 10,10\n",
    "n_est = 20\n",
    "v = 0\n",
    "clfs = ['Neural Net', 'k-NN']\n",
    "for c_name in clfs:\n",
    "    pipe  = Pipeline(steps=[ ('scaler', StandardScaler()),\n",
    "                           ('classifier', clf_dict[c_name])])\n",
    "    clf_cv = cross_validate(pipe, X, y, n_jobs=-1,\n",
    "                                    cv=RepeatedKFold(n_splits=folds, n_repeats=n_reps))\n",
    "\n",
    "    the_bag = BaggingClassifier(pipe, \n",
    "                            n_estimators = n_est,\n",
    "                            max_samples = 1.0, \n",
    "                            bootstrap = True)\n",
    "    bag_cv = cross_validate(the_bag, X, y, n_jobs=-1,\n",
    "                                    cv=RepeatedKFold(n_splits=folds, n_repeats=n_reps))\n",
    "    random_SS = BaggingClassifier(pipe, \n",
    "                            n_estimators = n_est,\n",
    "                            max_samples=1.0, bootstrap = False,\n",
    "                            max_features=0.5)\n",
    "    RS_cv = cross_validate(random_SS, X, y, n_jobs=-1,\n",
    "                                    cv=RepeatedKFold(n_splits=folds, n_repeats=n_reps))\n",
    "   \n",
    "    clf_acc[c_name] = clf_cv['test_score'].mean()\n",
    "    bag_acc[c_name] = bag_cv['test_score'].mean()\n",
    "    rs_acc[c_name] = RS_cv['test_score'].mean()\n",
    "\n",
    "    print(\"Mean for {:s} {:.2f}\".format(c_name, clf_cv['test_score'].mean()))\n",
    "    print(\"Mean for {:s} bag {:.2f}\".format(c_name, bag_cv['test_score'].mean()))\n",
    "    print(\"Mean for {:s} RS {:.2f}\".format(c_name, RS_cv['test_score'].mean()))"
   ]
  },
  {
   "cell_type": "code",
   "execution_count": 38,
   "metadata": {},
   "outputs": [
    {
     "data": {
      "image/png": "[encoded data removed]",
      "text/plain": [
       "<Figure size 360x288 with 1 Axes>"
      ]
     },
     "metadata": {
      "needs_background": "light"
     },
     "output_type": "display_data"
    }
   ],
   "source": [
    "names = clfs\n",
    "y_pos = np.arange(len(names))\n",
    "f = plt.figure(figsize=(5,4))\n",
    "plt.bar(y_pos-0.2, clf_acc.values(), align='center', width = 0.2, alpha=0.5, \n",
    "        label = \"Classifier\")\n",
    "plt.bar(y_pos, bag_acc.values(), align='center', color = 'r', width = 0.2, alpha=0.5,\n",
    "       label = \"Bagging\")\n",
    "plt.bar(y_pos+0.2, rs_acc.values(), align='center', color = 'orange', width = 0.2, alpha=0.5,\n",
    "       label = \"Random Subspace\")\n",
    "\n",
    "\n",
    "plt.xticks(y_pos, names)\n",
    "plt.ylabel('Accuracy')\n",
    "\n",
    "plt.ylim((0.5,1))\n",
    "plt.grid(axis = 'y')\n",
    "plt.legend(loc = 'lower right')\n",
    "plt.show()\n",
    "f.savefig('RandomSS-bar.pdf')"
   ]
  },
  {
   "cell_type": "code",
   "execution_count": null,
   "metadata": {},
   "outputs": [],
   "source": []
  }
 ],
 "metadata": {
  "kernelspec": {
   "display_name": "Python 3",
   "language": "python",
   "name": "python3"
  },
  "language_info": {
   "codemirror_mode": {
    "name": "ipython",
    "version": 3
   },
   "file_extension": ".py",
   "mimetype": "text/x-python",
   "name": "python",
   "nbconvert_exporter": "python",
   "pygments_lexer": "ipython3",
   "version": "3.10.4"
  }
 },
 "nbformat": 4,
 "nbformat_minor": 4
}
